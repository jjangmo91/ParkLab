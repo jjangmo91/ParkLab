{
  "nbformat": 4,
  "nbformat_minor": 0,
  "metadata": {
    "colab": {
      "provenance": [],
      "authorship_tag": "ABX9TyMy8ogeTOfiLGk+V3I0pli0",
      "include_colab_link": true
    },
    "kernelspec": {
      "name": "python3",
      "display_name": "Python 3"
    },
    "language_info": {
      "name": "python"
    }
  },
  "cells": [
    {
      "cell_type": "markdown",
      "metadata": {
        "id": "view-in-github",
        "colab_type": "text"
      },
      "source": [
        "<a href=\"https://colab.research.google.com/github/jjangmo91/ParkLab/blob/main/Python/01_variable_%26_data_type.ipynb\" target=\"_parent\"><img src=\"https://colab.research.google.com/assets/colab-badge.svg\" alt=\"Open In Colab\"/></a>"
      ]
    },
    {
      "cell_type": "markdown",
      "source": [
        "# Python 시작하기 #0 : 변수와 자료형"
      ],
      "metadata": {
        "id": "pzcR7bIvnjtk"
      }
    },
    {
      "cell_type": "code",
      "execution_count": null,
      "metadata": {
        "id": "-9Fidv03mD-x"
      },
      "outputs": [],
      "source": [
        "# 변수(Variable)\n",
        "a = 1\n",
        "print(a)\n",
        "\n",
        "a = a + 1\n",
        "print(a)"
      ]
    },
    {
      "cell_type": "code",
      "source": [
        "# 숫자(Number)\n",
        "a = 1992 # 정수형(int)\n",
        "b = 7.31 # 실수형(float)\n",
        "\n",
        "print(a + b) # 덧셈 연산\n",
        "print(a * b) # 곱셈 연산\n",
        "# print(ab)\n",
        "print(type(a)) # 변수 a의 자료형 출력"
      ],
      "metadata": {
        "id": "jN98Vd6DndYg"
      },
      "execution_count": null,
      "outputs": []
    },
    {
      "cell_type": "code",
      "source": [
        "# 문자열(String)\n",
        "s1 = \"ParkLab Data Science\"\n",
        "s2 = \"2025\"\n",
        "s3 = '''I want to learn about nature\n",
        "through data science.'''\n",
        "\n",
        "# 문자열 연결(concatenation)\n",
        "print(s1 + s2)\n",
        "\n",
        "# 문자열 반복\n",
        "print(s1 * 5)\n",
        "# print(s1 * s2)\n",
        "\n",
        "# 여러 줄 문자열 출력\n",
        "print(s3)"
      ],
      "metadata": {
        "id": "9WUvPnPnndWm"
      },
      "execution_count": null,
      "outputs": []
    },
    {
      "cell_type": "code",
      "source": [
        "s1 = \"ParkLab Data Science\"\n",
        "s3 = \"I want to learn about nature\"\n",
        "\n",
        "# 문자열 인덱싱(indexing)\n",
        "print(s1[3])\n",
        "\n",
        "# 문자열 슬라이싱(slicing)\n",
        "print(s3[0:5])\n",
        "print(s3[7:])\n",
        "\n",
        "# 문자열 포매팅(formatting)\n",
        "temp = 11.7\n",
        "mt = \"Bukhansan\"\n",
        "#\"The mean temperature of %s today is %s\" %(mt, temp) # 구식 포매팅\n",
        "#\"The mean temperature of {} today is {}\".format(mt, temp) # format 메서드\n",
        "#f\"The mean temperature of {mt} today is {temp}\" # f-string"
      ],
      "metadata": {
        "id": "7Sb9J9m1ndUi"
      },
      "execution_count": null,
      "outputs": []
    },
    {
      "cell_type": "code",
      "source": [
        "# 리스트(List)\n",
        "l1 = []\n",
        "l2 = [1, 2, 3]\n",
        "l3 = ['Songnisan', 'Odaesan', 'Jirisan']\n",
        "l4 = [1, 2, 'Songnisan', 'Odaesan', 'Jirisan']\n",
        "l5 = [1, 2, ['Songnisan', 'Odaesan', 'Jirisan']]\n",
        "\n",
        "#l5[2][2] # list indexing\n",
        "#l5[1:3] # list slicing\n",
        "#l5[2][0] = 'Hallasan'\n",
        "#l5"
      ],
      "metadata": {
        "id": "dTjiAvtpndSQ"
      },
      "execution_count": null,
      "outputs": []
    },
    {
      "cell_type": "code",
      "source": [
        "# 튜플(Tuple)\n",
        "t1 = () # 빈 튜플\n",
        "t2 = (1, ) # 원소가 하나뿐인 튜플(뒤에 콤마 필요)\n",
        "t3 = 'Songnisan', 'Odaesan', 'Jirisan' # 괄호 없이도 튜플 가능\n",
        "t4 = (1, 2, 'Songnisan', 'Odaesan', 'Jirisan')\n",
        "t5 = 1, 2, ('Songnisan', 'Odaesan', 'Jirisan')\n",
        "\n",
        "#t5[2][2] # tuple indexing\n",
        "#t5[1:3] # tuple slicing\n",
        "#t5[2][0] = 'Hallasan' # 튜플은 immutable -> 수정 불가"
      ],
      "metadata": {
        "id": "r8osufVDndP5"
      },
      "execution_count": null,
      "outputs": []
    },
    {
      "cell_type": "code",
      "source": [
        "# 딕셔너리(Dictionary)\n",
        "park = {\n",
        "    \"국립공원\": \"한려해상\",\n",
        "    \"면적\": 510,\n",
        "    \"깃대종\": \"팔색조\"\n",
        "}\n",
        "\n",
        "# Create(추가)\n",
        "park[\"관리기관\"] = \"국립공원공단\"\n",
        "print(park)\n",
        "\n",
        "# Read(조회)\n",
        "print(park[\"국립공원\"])\n",
        "\n",
        "# Update(수정)\n",
        "park[\"면적\"] = 520 # 이미 존재하는 키의 값 변경\n",
        "print(park)\n",
        "\n",
        "# Delete(삭제)\n",
        "del park[\"깃대종\"] # 깃대종 키-값 삭제\n",
        "print(park)"
      ],
      "metadata": {
        "id": "K4i-1McNndNk"
      },
      "execution_count": null,
      "outputs": []
    },
    {
      "cell_type": "code",
      "source": [
        "# 집합(Set)\n",
        "설악산 = {\"반달가슴곰\", \"고라니\", \"산양\"}\n",
        "월악산 = set([\"산양\", \"노루\", \"멧돼지\"])\n",
        "\n",
        "# 집합 출력\n",
        "print(설악산)\n",
        "print(월악산)\n",
        "\n",
        "# 집합 연산 예시\n",
        "print(\"교집합\", 설악산 & 월악산)\n",
        "print(\"합집합\", 설악산 | 월악산)"
      ],
      "metadata": {
        "id": "bFt4JuSqndLK"
      },
      "execution_count": null,
      "outputs": []
    },
    {
      "cell_type": "code",
      "source": [
        "# 불(bool)\n",
        "a = True\n",
        "b = False\n",
        "\n",
        "print(type(a))\n",
        "print(1 == 2)"
      ],
      "metadata": {
        "id": "kXf09mT8ndEm"
      },
      "execution_count": null,
      "outputs": []
    }
  ]
}