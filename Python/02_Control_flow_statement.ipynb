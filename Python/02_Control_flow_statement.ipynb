{
  "nbformat": 4,
  "nbformat_minor": 0,
  "metadata": {
    "colab": {
      "provenance": [],
      "authorship_tag": "ABX9TyP6p3vjnqX0Ysojyb8a/iuv",
      "include_colab_link": true
    },
    "kernelspec": {
      "name": "python3",
      "display_name": "Python 3"
    },
    "language_info": {
      "name": "python"
    }
  },
  "cells": [
    {
      "cell_type": "markdown",
      "metadata": {
        "id": "view-in-github",
        "colab_type": "text"
      },
      "source": [
        "<a href=\"https://colab.research.google.com/github/jjangmo91/ParkLab/blob/main/Python/02_Control_flow_statement.ipynb\" target=\"_parent\"><img src=\"https://colab.research.google.com/assets/colab-badge.svg\" alt=\"Open In Colab\"/></a>"
      ]
    },
    {
      "cell_type": "markdown",
      "source": [
        "# Python 시작하기 #1 : 제어문"
      ],
      "metadata": {
        "id": "xI-d04hyOtkZ"
      }
    },
    {
      "cell_type": "code",
      "source": [
        "high_temperature = True  # 기온이 높은지 여부\n",
        "human_activity = True    # 사람이 활동 중인지 여부\n",
        "rainy = False           # 비가 오는지 여부\n",
        "\n",
        "if high_temperature:\n",
        "    print(\"기온이 매우 높습니다. 산불 발생 위험이 높습니다.\")\n",
        "\n",
        "if human_activity:\n",
        "    print(\"등산객의 활동이 있습니다. 화기 사용에 주의가 필요합니다.\")\n",
        "\n",
        "if rainy:\n",
        "    print(\"비가 내리고 있습니다. 산불 발생 위험이 낮습니다.\")"
      ],
      "metadata": {
        "id": "9YfDsSeQOrs-"
      },
      "execution_count": null,
      "outputs": []
    },
    {
      "cell_type": "code",
      "source": [
        "# 조건문 if / elif / else\n",
        "population = 45  # 개체수\n",
        "\n",
        "# 조건문을 통해 보호 상태 평가\n",
        "if population < 30:\n",
        "    print(f\"반달곰 개체수가 {population} 마리로, 긴급 보호 조치가 필요합니다.\")\n",
        "elif population < 100:\n",
        "    print(f\"반달곰 개체수가 {population} 마리로, 모니터링 및 보호 정책이 요구됩니다.\")\n",
        "else:\n",
        "    print(f\"반달곰 개체수가 {population} 마리로 양호한 상태입니다.\")"
      ],
      "metadata": {
        "id": "ZHp6qc-JOtPh"
      },
      "execution_count": null,
      "outputs": []
    },
    {
      "cell_type": "code",
      "source": [
        "# while문\n",
        "population = 45  # 초기 개체수 설정\n",
        "\n",
        "while population < 150:\n",
        "    print(f\"현재 반달곰 개체수: {population}마리\")\n",
        "    population = population + 20  # 매 반복마다 개체수 20마리씩 증가\n",
        "\n",
        "print(\"반달곰 개체수가 150마리 이상에 도달했습니다.\")"
      ],
      "metadata": {
        "id": "ZscVOvpXPQET"
      },
      "execution_count": null,
      "outputs": []
    },
    {
      "cell_type": "code",
      "source": [
        "# for문\n",
        "initial_population = 30\n",
        "growth = 20\n",
        "steps = 5\n",
        "\n",
        "for i in range(steps):\n",
        "  print(f\"{i+1}단계: 반달곰 개체수 {initial_population + growth*i}마리\")"
      ],
      "metadata": {
        "id": "7ovVY8fVQWS9"
      },
      "execution_count": null,
      "outputs": []
    },
    {
      "cell_type": "code",
      "source": [
        "# break와 continue 활용(산불 위험 예시)\n",
        "weather_conditions = [\"dry\", \"dry\", \"dry\", \"rain\", \"dry\"]\n",
        "day = 1  # 날짜 초기화\n",
        "\n",
        "for condition in weather_conditions:\n",
        "    if condition == \"rain\":\n",
        "        print(f\"{day}일차: 비가 와서 산불 위험이 낮아졌습니다. 순찰을 종료합니다.\")\n",
        "        break  # 비가 오면 반복문 종료\n",
        "    if condition == \"dry\":\n",
        "        print(f\"{day}일차: 날씨가 건조합니다. 산불 주의!\")\n",
        "        day += 1  # 날짜 증가\n",
        "        continue  # 건조한 날씨일 경우 다음 반복으로 계속 진행"
      ],
      "metadata": {
        "id": "FkmFKOe6Ra6d"
      },
      "execution_count": null,
      "outputs": []
    }
  ]
}