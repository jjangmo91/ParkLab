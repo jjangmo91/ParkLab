{
  "nbformat": 4,
  "nbformat_minor": 0,
  "metadata": {
    "colab": {
      "provenance": [],
      "authorship_tag": "ABX9TyP6p3vjnqX0Ysojyb8a/iuv",
      "include_colab_link": true
    },
    "kernelspec": {
      "name": "python3",
      "display_name": "Python 3"
    },
    "language_info": {
      "name": "python"
    }
  },
  "cells": [
    {
      "cell_type": "markdown",
      "metadata": {
        "id": "view-in-github",
        "colab_type": "text"
      },
      "source": [
        "<a href=\"https://colab.research.google.com/github/jjangmo91/ParkLab/blob/main/Python/02_Control_flow_statement.ipynb\" target=\"_parent\"><img src=\"https://colab.research.google.com/assets/colab-badge.svg\" alt=\"Open In Colab\"/></a>"
      ]
    },
    {
      "cell_type": "markdown",
      "source": [
        "# Python 시작하기 #1 : 제어문"
      ],
      "metadata": {
        "id": "xI-d04hyOtkZ"
      }
    },
    {
      "cell_type": "code",
      "source": [
        "high_temperature = True  # 기온이 높은지 여부\n",
        "human_activity = True    # 사람이 활동 중인지 여부\n",
        "rainy = False           # 비가 오는지 여부\n",
        "\n",
        "if high_temperature:\n",
        "    print(\"기온이 매우 높습니다. 산불 발생 위험이 높습니다.\")\n",
        "\n",
        "if human_activity:\n",
        "    print(\"등산객의 활동이 있습니다. 화기 사용에 주의가 필요합니다.\")\n",
        "\n",
        "if rainy:\n",
        "    print(\"비가 내리고 있습니다. 산불 발생 위험이 낮습니다.\")"
      ],
      "metadata": {
        "colab": {
          "base_uri": "https://localhost:8080/"
        },
        "id": "9YfDsSeQOrs-",
        "outputId": "488b7d38-d0ca-4e2e-bc6a-2bb04525dc0c"
      },
      "execution_count": 37,
      "outputs": [
        {
          "output_type": "stream",
          "name": "stdout",
          "text": [
            "기온이 매우 높습니다. 산불 발생 위험이 높습니다.\n",
            "등산객의 활동이 있습니다. 화기 사용에 주의가 필요합니다.\n"
          ]
        }
      ]
    },
    {
      "cell_type": "code",
      "source": [
        "# 조건문 if / elif / else\n",
        "population = 45  # 개체수\n",
        "\n",
        "# 조건문을 통해 보호 상태 평가\n",
        "if population < 30:\n",
        "    print(f\"반달곰 개체수가 {population} 마리로, 긴급 보호 조치가 필요합니다.\")\n",
        "elif population < 100:\n",
        "    print(f\"반달곰 개체수가 {population} 마리로, 모니터링 및 보호 정책이 요구됩니다.\")\n",
        "else:\n",
        "    print(f\"반달곰 개체수가 {population} 마리로 양호한 상태입니다.\")"
      ],
      "metadata": {
        "colab": {
          "base_uri": "https://localhost:8080/"
        },
        "id": "ZHp6qc-JOtPh",
        "outputId": "6ff1be93-353f-4d9f-8099-3ef2b823e4dd"
      },
      "execution_count": 38,
      "outputs": [
        {
          "output_type": "stream",
          "name": "stdout",
          "text": [
            "반달곰 개체수가 45 마리로, 모니터링 및 보호 정책이 요구됩니다.\n"
          ]
        }
      ]
    },
    {
      "cell_type": "code",
      "source": [
        "# while문\n",
        "population = 45  # 초기 개체수 설정\n",
        "\n",
        "while population < 150:\n",
        "    print(f\"현재 반달곰 개체수: {population}마리\")\n",
        "    population = population + 20  # 매 반복마다 개체수 20마리씩 증가\n",
        "\n",
        "print(\"반달곰 개체수가 150마리 이상에 도달했습니다.\")"
      ],
      "metadata": {
        "colab": {
          "base_uri": "https://localhost:8080/"
        },
        "id": "ZscVOvpXPQET",
        "outputId": "16b02b5c-a1f5-4201-a5f3-a07acc4ea78f"
      },
      "execution_count": 39,
      "outputs": [
        {
          "output_type": "stream",
          "name": "stdout",
          "text": [
            "현재 반달곰 개체수: 45마리\n",
            "현재 반달곰 개체수: 65마리\n",
            "현재 반달곰 개체수: 85마리\n",
            "현재 반달곰 개체수: 105마리\n",
            "현재 반달곰 개체수: 125마리\n",
            "현재 반달곰 개체수: 145마리\n",
            "반달곰 개체수가 150마리 이상에 도달했습니다.\n"
          ]
        }
      ]
    },
    {
      "cell_type": "code",
      "source": [
        "# for문\n",
        "initial_population = 30\n",
        "growth = 20\n",
        "steps = 5\n",
        "\n",
        "for i in range(steps):\n",
        "  print(f\"{i+1}단계: 반달곰 개체수 {initial_population + growth*i}마리\")"
      ],
      "metadata": {
        "colab": {
          "base_uri": "https://localhost:8080/"
        },
        "id": "7ovVY8fVQWS9",
        "outputId": "b3396f8a-5667-42e9-97d1-88eaa700e5ea"
      },
      "execution_count": 40,
      "outputs": [
        {
          "output_type": "stream",
          "name": "stdout",
          "text": [
            "1단계: 반달곰 개체수 30마리\n",
            "2단계: 반달곰 개체수 50마리\n",
            "3단계: 반달곰 개체수 70마리\n",
            "4단계: 반달곰 개체수 90마리\n",
            "5단계: 반달곰 개체수 110마리\n"
          ]
        }
      ]
    },
    {
      "cell_type": "code",
      "source": [
        "# break와 continue 활용(산불 위험 예시)\n",
        "weather_conditions = [\"dry\", \"dry\", \"dry\", \"rain\", \"dry\"]\n",
        "day = 1  # 날짜 초기화\n",
        "\n",
        "for condition in weather_conditions:\n",
        "    if condition == \"rain\":\n",
        "        print(f\"{day}일차: 비가 와서 산불 위험이 낮아졌습니다. 순찰을 종료합니다.\")\n",
        "        break  # 비가 오면 반복문 종료\n",
        "    if condition == \"dry\":\n",
        "        print(f\"{day}일차: 날씨가 건조합니다. 산불 주의!\")\n",
        "        day += 1  # 날짜 증가\n",
        "        continue  # 건조한 날씨일 경우 다음 반복으로 계속 진행"
      ],
      "metadata": {
        "colab": {
          "base_uri": "https://localhost:8080/"
        },
        "id": "FkmFKOe6Ra6d",
        "outputId": "e30f4034-6dce-4b85-81b6-c62608eed6e9"
      },
      "execution_count": 41,
      "outputs": [
        {
          "output_type": "stream",
          "name": "stdout",
          "text": [
            "1일차: 날씨가 건조합니다. 산불 주의!\n",
            "2일차: 날씨가 건조합니다. 산불 주의!\n",
            "3일차: 날씨가 건조합니다. 산불 주의!\n",
            "4일차: 비가 와서 산불 위험이 낮아졌습니다. 순찰을 종료합니다.\n"
          ]
        }
      ]
    }
  ]
}