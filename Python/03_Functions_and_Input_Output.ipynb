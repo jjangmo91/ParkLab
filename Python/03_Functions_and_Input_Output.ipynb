{
  "nbformat": 4,
  "nbformat_minor": 0,
  "metadata": {
    "colab": {
      "provenance": [],
      "authorship_tag": "ABX9TyP5dVx8zyfcpp38SbBfB3Uv",
      "include_colab_link": true
    },
    "kernelspec": {
      "name": "python3",
      "display_name": "Python 3"
    },
    "language_info": {
      "name": "python"
    }
  },
  "cells": [
    {
      "cell_type": "markdown",
      "metadata": {
        "id": "view-in-github",
        "colab_type": "text"
      },
      "source": [
        "<a href=\"https://colab.research.google.com/github/jjangmo91/ParkLab/blob/main/Python/03_Functions_and_Input_Output.ipynb\" target=\"_parent\"><img src=\"https://colab.research.google.com/assets/colab-badge.svg\" alt=\"Open In Colab\"/></a>"
      ]
    },
    {
      "cell_type": "code",
      "source": [
        "# 기본 함수 정의\n",
        "def population_density(population_count, habitat_area):\n",
        "    result = population_count/habitat_area\n",
        "    return result"
      ],
      "metadata": {
        "id": "K8qvN3tKHHcR"
      },
      "execution_count": null,
      "outputs": []
    },
    {
      "cell_type": "code",
      "source": [
        "# 함수 호출 및 결과 출력\n",
        "density = population_density(89, 483)\n",
        "print(density)"
      ],
      "metadata": {
        "id": "rmYdZ_HVHHY2"
      },
      "execution_count": null,
      "outputs": []
    },
    {
      "cell_type": "code",
      "source": [
        "# 전역변수 (Global Variable)\n",
        "species_population = 1000  # 전체 서식지의 종 개체수\n",
        "\n",
        "def observe_local_habitat():\n",
        "    ''' 지역변수 (Local Variable) '''\n",
        "    species_population = 45  # 특정 관찰 구역에서의 종 개체수\n",
        "    print(\"관찰된 서식지 내 종의 개체수:\", species_population)"
      ],
      "metadata": {
        "id": "7ovVY8fVQWS9"
      },
      "execution_count": null,
      "outputs": []
    },
    {
      "cell_type": "code",
      "source": [
        "# 함수 호출 (지역변수 출력)\n",
        "observe_local_habitat()\n",
        "\n",
        "# 전역변수 출력\n",
        "print(\"전체 서식지의 종 개체수:\", species_population)"
      ],
      "metadata": {
        "id": "eJnuMaRnHHIP"
      },
      "execution_count": null,
      "outputs": []
    }
  ]
}