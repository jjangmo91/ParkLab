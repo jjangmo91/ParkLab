{
  "nbformat": 4,
  "nbformat_minor": 0,
  "metadata": {
    "colab": {
      "provenance": [],
      "authorship_tag": "ABX9TyNQOC/5m8JYKFW8EN7XmumL",
      "include_colab_link": true
    },
    "kernelspec": {
      "name": "python3",
      "display_name": "Python 3"
    },
    "language_info": {
      "name": "python"
    }
  },
  "cells": [
    {
      "cell_type": "markdown",
      "metadata": {
        "id": "view-in-github",
        "colab_type": "text"
      },
      "source": [
        "<a href=\"https://colab.research.google.com/github/jjangmo91/ParkLab/blob/main/Python/04_Built_in_Fuctions_%26_lambda.ipynb\" target=\"_parent\"><img src=\"https://colab.research.google.com/assets/colab-badge.svg\" alt=\"Open In Colab\"/></a>"
      ]
    },
    {
      "cell_type": "code",
      "source": [
        "list(zip([1,2], [3,4]))"
      ],
      "metadata": {
        "id": "aB-UPceB-Ttw"
      },
      "execution_count": null,
      "outputs": []
    },
    {
      "cell_type": "code",
      "source": [
        "list(map(lambda x: x*2, [1,2,3]))"
      ],
      "metadata": {
        "id": "Sf2S5NWD-Tra"
      },
      "execution_count": null,
      "outputs": []
    },
    {
      "cell_type": "code",
      "source": [
        "it = map(lambda x: x+1, [1,2,3])\n",
        "print(list(it))"
      ],
      "metadata": {
        "id": "6QgSExZ7-TnM"
      },
      "execution_count": null,
      "outputs": []
    },
    {
      "cell_type": "code",
      "source": [
        "# lambda 매개변수: 표현식\n",
        "add = lambda x, y: x + y\n",
        "print(add(2, 3))"
      ],
      "metadata": {
        "id": "xHpDoBeY-TX6"
      },
      "execution_count": null,
      "outputs": []
    },
    {
      "cell_type": "code",
      "source": [
        "# 예시 데이터\n",
        "species_counts = [23, 45, 12, 38]   # 관찰 개체 수\n",
        "habitat_areas  = [2.5, 3.1, 1.8, 4.0]  # 서식지 면적(km²)"
      ],
      "metadata": {
        "id": "5tSEpqpeLHMc"
      },
      "execution_count": null,
      "outputs": []
    },
    {
      "cell_type": "code",
      "source": [
        "# zip + map: 개체밀도 계산\n",
        "densities = list(\n",
        "    map(\n",
        "        lambda x_y: x_y[0] / x_y[1], # (count, area) 튜플에서 count/area 연산\n",
        "        zip(species_counts, habitat_areas) # [(23,2.5), (45,3.1), ...] 튜플 시퀀스 생성\n",
        "    )\n",
        ")\n",
        "print(\"개체밀도:\", densities)"
      ],
      "metadata": {
        "id": "YtXlkKNNuVhu"
      },
      "execution_count": null,
      "outputs": []
    },
    {
      "cell_type": "code",
      "source": [
        "# filter: 밀도가 10 이상인 값만 추출\n",
        "high_density = list(filter(lambda d: d >= 10, densities))\n",
        "print(\"밀도 ≥ 10:\", high_density)"
      ],
      "metadata": {
        "id": "qgtmqoXIuica"
      },
      "execution_count": null,
      "outputs": []
    },
    {
      "cell_type": "code",
      "source": [
        "# sorted: 내림차순으로 정렬하기\n",
        "sorted_densities = sorted(densities, reverse=True)\n",
        "print(\"내림차순 개체밀도:\", [f\"{d:.2f}\" for d in sorted_densities])"
      ],
      "metadata": {
        "id": "h-BRqwF3ukPD"
      },
      "execution_count": null,
      "outputs": []
    }
  ]
}