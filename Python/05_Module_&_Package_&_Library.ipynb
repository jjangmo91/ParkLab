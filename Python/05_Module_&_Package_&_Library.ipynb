{
  "nbformat": 4,
  "nbformat_minor": 0,
  "metadata": {
    "colab": {
      "provenance": [],
      "authorship_tag": "ABX9TyMu3kW43Q8BHhI5r5h3EU87",
      "include_colab_link": true
    },
    "kernelspec": {
      "name": "python3",
      "display_name": "Python 3"
    },
    "language_info": {
      "name": "python"
    }
  },
  "cells": [
    {
      "cell_type": "markdown",
      "metadata": {
        "id": "view-in-github",
        "colab_type": "text"
      },
      "source": [
        "<a href=\"https://colab.research.google.com/github/jjangmo91/ParkLab/blob/main/Python/05_Module_%26_Package_%26_Library.ipynb\" target=\"_parent\"><img src=\"https://colab.research.google.com/assets/colab-badge.svg\" alt=\"Open In Colab\"/></a>"
      ]
    },
    {
      "cell_type": "code",
      "execution_count": null,
      "metadata": {
        "id": "eQPs4hzwNa3L"
      },
      "outputs": [],
      "source": [
        "# Colab에서 바로 설치\n",
        "!pip install pandas numpy matplotlib seaborn\n",
        "# 한글 폰트 설치\n",
        "!apt-get update -qq\n",
        "!apt-get install -y fonts-nanum"
      ]
    },
    {
      "cell_type": "code",
      "source": [
        "# pandas: 데이터 불러오기 및 데이터 프레임 관리\n",
        "import pandas as pd\n",
        "\n",
        "# numpy: 수치 연산 및 배열 처리\n",
        "import numpy as np\n",
        "\n",
        "# matplotlib, seaborn: 데이터 시각화\n",
        "import matplotlib.pyplot as plt\n",
        "import seaborn as sns\n",
        "import matplotlib.font_manager as fm\n",
        "\n",
        "# 한글 폰트 등록 및 설정\n",
        "font_dirs = ['/usr/share/fonts/truetype/nanum/']\n",
        "for font_path in fm.findSystemFonts(font_dirs):\n",
        "    fm.fontManager.addfont(font_path)\n",
        "plt.rc('font', family='NanumGothic')\n",
        "plt.rc('axes', unicode_minus=False)"
      ],
      "metadata": {
        "id": "zeQfI1xJSo48"
      },
      "execution_count": null,
      "outputs": []
    },
    {
      "cell_type": "code",
      "source": [
        "# 국립공원 데이터 불러오기\n",
        "file_path = (\n",
        "    \"https://raw.githubusercontent.com/jjangmo91/ParkLab/refs/heads/main/data/\"\n",
        "    \"%EA%B5%AD%EB%A6%BD%EA%B3%B5%EC%9B%90_%EC%83%9D%EB%AC%BC%EC%9E%90%EC%9B%90%ED%98%84%ED%99%A9_2023.csv\"\n",
        ")\n",
        "df = pd.read_csv(file_path, encoding='utf-8')"
      ],
      "metadata": {
        "id": "8g7h9a5Icug_"
      },
      "execution_count": null,
      "outputs": []
    },
    {
      "cell_type": "code",
      "source": [
        "# 데이터 확인 (상위 5개 행)\n",
        "print(df.head())"
      ],
      "metadata": {
        "id": "j8zesCTiUK6w"
      },
      "execution_count": null,
      "outputs": []
    },
    {
      "cell_type": "code",
      "source": [
        "# 데이터 기본 정보 확인\n",
        "print(df.info())"
      ],
      "metadata": {
        "id": "ksnjiWp3bzGU"
      },
      "execution_count": null,
      "outputs": []
    },
    {
      "cell_type": "code",
      "source": [
        "# 전체 관측 레코드 수 및 기간 확인\n",
        "total_records = len(df)\n",
        "df['조사일자'] = pd.to_datetime(df['조사일자'], errors='coerce')\n",
        "start_date = df['조사일자'].min().date()\n",
        "end_date = df['조사일자'].max().date()\n",
        "print(f\"전체 관측 레코드 수: {total_records}\")\n",
        "print(f\"조사기간: {start_date} ~ {end_date}\")"
      ],
      "metadata": {
        "id": "H75R43uPg8XE"
      },
      "execution_count": null,
      "outputs": []
    },
    {
      "cell_type": "code",
      "source": [
        "# 국립공원별 관측 레코드 수 및 종 수 계산\n",
        "record_counts = df['국립공원'].value_counts()\n",
        "species_counts = df.groupby('국립공원')['종명'].nunique()\n",
        "summary = pd.DataFrame({'관측레코드수': record_counts, '종수': species_counts}).sort_values('관측레코드수')"
      ],
      "metadata": {
        "id": "jZ5fZEyUb_KT"
      },
      "execution_count": null,
      "outputs": []
    },
    {
      "cell_type": "code",
      "source": [
        "# 시각화 1: 국립공원별 관측 레코드 수 및 종 수 비교\n",
        "fig, ax = plt.subplots(figsize=(10, 8))\n",
        "summary.plot(kind='barh', ax=ax, color=['steelblue', 'darkorange'], width=0.7)\n",
        "max_val = summary['관측레코드수'].max()\n",
        "for i, (rec, spe) in enumerate(zip(summary['관측레코드수'], summary['종수'])):\n",
        "    ax.text(rec + max_val*0.01, i-0.15, f'{rec:,}', va='center')\n",
        "    ax.text(spe + max_val*0.01, i+0.15, f'{spe:,}', va='center')\n",
        "ax.set_title('국립공원별 관측 레코드 수 및 종 수')\n",
        "ax.set_xlabel('Count')\n",
        "ax.set_ylabel('국립공원')\n",
        "ax.legend(['관측 레코드 수', '종 수'])\n",
        "plt.tight_layout()\n",
        "plt.show()"
      ],
      "metadata": {
        "id": "SSN8Bn4sgIGv"
      },
      "execution_count": null,
      "outputs": []
    },
    {
      "cell_type": "code",
      "source": [
        "# 시각화 2: 상위 20개 종별 관측 빈도\n",
        "species_freq = df['종명'].value_counts().head(20)\n",
        "print(f\"총 고유 종 수: {df['종명'].nunique()}\")\n",
        "plt.figure(figsize=(8, 6))\n",
        "species_freq.sort_values().plot(kind='barh', color='forestgreen')\n",
        "plt.title('상위 20개 종별 관측 빈도')\n",
        "plt.xlabel('관측 빈도')\n",
        "plt.ylabel('종명')\n",
        "plt.tight_layout()\n",
        "plt.show()"
      ],
      "metadata": {
        "id": "d29kzl_WgNm_"
      },
      "execution_count": null,
      "outputs": []
    }
  ]
}