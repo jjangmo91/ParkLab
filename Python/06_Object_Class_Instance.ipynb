{
  "nbformat": 4,
  "nbformat_minor": 0,
  "metadata": {
    "colab": {
      "provenance": [],
      "authorship_tag": "ABX9TyMfXZSNEWykkwk68xbQfPvZ",
      "include_colab_link": true
    },
    "kernelspec": {
      "name": "python3",
      "display_name": "Python 3"
    },
    "language_info": {
      "name": "python"
    }
  },
  "cells": [
    {
      "cell_type": "markdown",
      "metadata": {
        "id": "view-in-github",
        "colab_type": "text"
      },
      "source": [
        "<a href=\"https://colab.research.google.com/github/jjangmo91/ParkLab/blob/main/Python/06_Object_Class_Instance.ipynb\" target=\"_parent\"><img src=\"https://colab.research.google.com/assets/colab-badge.svg\" alt=\"Open In Colab\"/></a>"
      ]
    },
    {
      "cell_type": "code",
      "source": [
        "# NationalPark 클래스 정의\n",
        "class NationalPark:\n",
        "    def __init__(self, name, location):\n",
        "        self.name = name\n",
        "        self.location = location\n",
        "        self.trails = []  # 탐방로 객체(인스턴스)를 담는 리스트\n",
        "\n",
        "    def add_trail(self, trail):\n",
        "        \"\"\"탐방로(객체)를 동적으로 추가하는 메서드\"\"\"\n",
        "        self.trails.append(trail)\n",
        "\n",
        "    def get_park_status(self):\n",
        "        \"\"\"\n",
        "        전체 탐방로의 상태로 공원 상태를 반환\n",
        "        - 모든 탐방로가 '개방'이면 '개방'\n",
        "        - 모든 탐방로가 '전면통제'이면 '전면통제'\n",
        "        - 그 외 하나라도 통제면 '부분통제'\n",
        "        \"\"\"\n",
        "        if not self.trails:\n",
        "            return \"정보없음\"\n",
        "        if all(t.status == \"개방\" for t in self.trails):\n",
        "            return \"개방\"\n",
        "        elif all(t.status == \"전면통제\" for t in self.trails):\n",
        "            return \"전면통제\"\n",
        "        else:\n",
        "            return \"부분통제\"\n",
        "\n",
        "    def describe(self):\n",
        "        status = self.get_park_status()\n",
        "        return f\"{self.name} ({self.location}) - 전체 상태: {status}, 탐방로 수: {len(self.trails)}\"\n",
        "\n",
        "    def show_trail_status(self):\n",
        "        print(f\"[{self.name} 탐방로 현황]\")\n",
        "        for t in self.trails:\n",
        "            print(\"  -\", t.info())"
      ],
      "metadata": {
        "id": "vE79buHLFcS8"
      },
      "execution_count": null,
      "outputs": []
    },
    {
      "cell_type": "code",
      "source": [
        "# Trail 클래스를 정의\n",
        "class Trail:\n",
        "    def __init__(self, name, status, reason=None):\n",
        "        self.name = name\n",
        "        self.status = status\n",
        "        self.reason = reason\n",
        "\n",
        "    def info(self):\n",
        "        if self.status == \"개방\":\n",
        "            return f\"{self.name}: 개방\"\n",
        "        elif self.status == \"부분통제\":\n",
        "            return f\"{self.name}: 부분통제 ({self.reason})\"\n",
        "        else:\n",
        "            return f\"{self.name}: 전면통제 ({self.reason})\""
      ],
      "metadata": {
        "id": "DeccpccFFeX6"
      },
      "execution_count": null,
      "outputs": []
    },
    {
      "cell_type": "code",
      "source": [
        "# 국립공원 객체(인스턴스) 먼저 생성(탐방로 비워둠)\n",
        "songnisan = NationalPark(\"속리산국립공원\", \"충북 보은\")\n",
        "seoraksan = NationalPark(\"설악산국립공원\", \"강원 속초\")\n",
        "parks = [songnisan, seoraksan]\n",
        "\n",
        "# 나중에 데이터에 따라 탐방로를 동적으로 추가 (수동, 자동, 반복문 등 가능)\n",
        "songnisan.add_trail(Trail(\"문장대\", \"전면통제\", \"기상악화\"))\n",
        "songnisan.add_trail(Trail(\"천왕봉\", \"개방\"))\n",
        "songnisan.add_trail(Trail(\"법주사\", \"부분통제\", \"공사\"))\n",
        "songnisan.add_trail(Trail(\"비로봉\", \"개방\"))\n",
        "\n",
        "seoraksan.add_trail(Trail(\"대청봉\", \"전면통제\", \"산불위험\"))\n",
        "seoraksan.add_trail(Trail(\"울산바위\", \"전면통제\", \"산불위험\"))\n",
        "seoraksan.add_trail(Trail(\"공룡능선\", \"전면통제\", \"산불위험\"))\n",
        "seoraksan.add_trail(Trail(\"비선대\", \"전면통제\", \"산불위험\"))"
      ],
      "metadata": {
        "id": "WWToo8ceFfVC"
      },
      "execution_count": null,
      "outputs": []
    },
    {
      "cell_type": "code",
      "source": [
        "# 공원별 전체 상태 요약(대시보드)\n",
        "for park in parks:\n",
        "    print(f\"{park.name} {park.get_park_status()}\")\n",
        "\n",
        "# 특정 공원 선택시 상세 탐방로 현황\n",
        "print(\"\\n[속리산국립공원 상세 탐방로 현황]\")\n",
        "songnisan.show_trail_status()"
      ],
      "metadata": {
        "id": "WUruQpAUFiEe"
      },
      "execution_count": null,
      "outputs": []
    }
  ]
}