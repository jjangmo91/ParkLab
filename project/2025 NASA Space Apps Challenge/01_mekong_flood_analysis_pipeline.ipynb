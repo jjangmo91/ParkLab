{
  "nbformat": 4,
  "nbformat_minor": 0,
  "metadata": {
    "colab": {
      "provenance": [],
      "authorship_tag": "ABX9TyM2/ZrSjKlN29EvDenvac6X",
      "include_colab_link": true
    },
    "kernelspec": {
      "name": "python3",
      "display_name": "Python 3"
    },
    "language_info": {
      "name": "python"
    }
  },
  "cells": [
    {
      "cell_type": "markdown",
      "metadata": {
        "id": "view-in-github",
        "colab_type": "text"
      },
      "source": [
        "<a href=\"https://colab.research.google.com/github/jjangmo91/ParkLab/blob/main/project/2025%20NASA%20Space%20Apps%20Challenge/01_mekong_flood_analysis_pipeline.ipynb\" target=\"_parent\"><img src=\"https://colab.research.google.com/assets/colab-badge.svg\" alt=\"Open In Colab\"/></a>"
      ]
    },
    {
      "cell_type": "code",
      "execution_count": null,
      "metadata": {
        "id": "0bIWgCeuAc-3"
      },
      "outputs": [],
      "source": [
        "import ee\n",
        "import geemap\n",
        "\n",
        "# Earth Engine 인증\n",
        "ee.Authenticate()\n",
        "# Earth Engine 초기화\n",
        "ee.Initialize(project='ee-jjangmo91') # 본인 계정"
      ]
    },
    {
      "cell_type": "code",
      "source": [
        "# Phase 1: 기준선 설정(Landsat & JRC)\n",
        "# 목표: 댐 영향이 본격화 되기 이전 메콩강 하류 모습 정의\n",
        "# step1: Landsat 5 이미지를 이용해 건기와 우기의 자연색(Natural Color) 이미지 생성\n",
        "# step2: JRC Global Surface Water 데이터셋의 seasonality 밴드를 활용, 1년 중 항상 물이 있었던 곳(Permanent)과 계절에 따라 물이 차는 곳(Seasonal) 시각화\n",
        "# 결과: 댐 영향 이전의 시각적 / 질적 기준선 설정"
      ],
      "metadata": {
        "id": "JXCYNQiCNoFO"
      },
      "execution_count": null,
      "outputs": []
    },
    {
      "cell_type": "code",
      "source": [
        "# 분석 파라미터 설정\n",
        "# Area of Interset, AOI: 캄보디아 프놈펜, 톤레삽 호수, 베트남 메콩 델타 포함\n",
        "aoi = ee.Geometry.Rectangle([103.0, 9.5, 107.0, 13.5])\n",
        "\n",
        "# 기준선 분석 기간 (댐 영향 이전 / 1년치 건기 우기 확)\n",
        "pre_dam_start_year = 2005\n",
        "pre_dam_end_year = 2006"
      ],
      "metadata": {
        "id": "I7nNsG5JPzak"
      },
      "execution_count": null,
      "outputs": []
    },
    {
      "cell_type": "code",
      "source": [
        "# Landsat Collection 2 스케일링 및 구름 마스킹 함수 정의\n",
        "def scale_and_mask_l5c2(image):\n",
        "    # QA_PIXEL 밴드에서 구름(비트3)과 구름 그림자(비트4) 정보 추출\n",
        "    cloud_shadow_bit_mask = 1 << 4\n",
        "    clouds_bit_mask = 1 << 3\n",
        "    qa_pixel = image.select('QA_PIXEL')\n",
        "    # 구름과 그림자가 없는 깨끗한 픽셀만 선택\n",
        "    mask = qa_pixel.bitwiseAnd(cloud_shadow_bit_mask).eq(0) \\\n",
        "                   .And(qa_pixel.bitwiseAnd(clouds_bit_mask).eq(0))\n",
        "\n",
        "    # 광학 밴드(SR_B*)에 스케일 팩터와 오프셋 적용\n",
        "    # 열 밴드(ST_B6)는 다른 스케일을 가지므로 따로 처리\n",
        "    optical_bands = image.select('SR_B.').multiply(0.0000275).add(-0.2)\n",
        "    thermal_bands = image.select('ST_B6').multiply(0.00341802).add(149.0)\n",
        "\n",
        "    # 스케일링된 밴드와 마스크를 원본 이미지에 다시 추가하고 적용\n",
        "    return image.addBands(optical_bands, None, True) \\\n",
        "                .addBands(thermal_bands, None, True) \\\n",
        "                .updateMask(mask)\n",
        "\n",
        "# 건기(Dry Season) 데이터 처리\n",
        "dry_season_start = f'{pre_dam_start_year}-11-01'\n",
        "dry_season_end = f'{pre_dam_end_year}-04-30'\n",
        "\n",
        "landsat_dry = ee.ImageCollection('LANDSAT/LT05/C02/T1_L2') \\\n",
        "    .filterBounds(aoi) \\\n",
        "    .filterDate(dry_season_start, dry_season_end) \\\n",
        "    .map(scale_and_mask_l5c2) \\\n",
        "    .median() \\\n",
        "    .clip(aoi)\n",
        "\n",
        "# 우기(Wet Season) 데이터 처리\n",
        "wet_season_start = f'{pre_dam_end_year}-05-01'\n",
        "wet_season_end = f'{pre_dam_end_year}-10-31'\n",
        "\n",
        "landsat_wet = ee.ImageCollection('LANDSAT/LT05/C02/T1_L2') \\\n",
        "    .filterBounds(aoi) \\\n",
        "    .filterDate(wet_season_start, wet_season_end) \\\n",
        "    .map(scale_and_mask_l5c2) \\\n",
        "    .median() \\\n",
        "    .clip(aoi)\n",
        "\n",
        "# 시각화 파라미터 (Collection 2에 맞게 밴드 이름과 값 범위 수정)\n",
        "vis_params_landsat = {\n",
        "    'bands': ['SR_B3', 'SR_B2', 'SR_B1'], # 자연색 조합 (Red, Green, Blue)\n",
        "    'min': 0.0,\n",
        "    'max': 0.3 # 표면 반사율(Surface Reflectance) 값 범위\n",
        "}"
      ],
      "metadata": {
        "id": "bICWa_mWBgOC"
      },
      "execution_count": null,
      "outputs": []
    },
    {
      "cell_type": "code",
      "source": [
        "# JRC Global Surface Water 데이터셋 v1.4 불러오기\n",
        "jrc_data = ee.Image('JRC/GSW1_4/GlobalSurfaceWater').clip(aoi)\n",
        "\n",
        "# 'seasonality' 밴드는 물의 계절성을 분류함\n",
        "seasonality = jrc_data.select('seasonality')\n",
        "\n",
        "# 시각화를 위한 파라미터 설정\n",
        "vis_params_jrc = {\n",
        "    'min': 1,\n",
        "    'max': 4,\n",
        "    'palette': ['#0000FF', '#2395a7', '#52e338', '#9be338'] # 파랑(영구), 하늘~초록(계절)\n",
        "}"
      ],
      "metadata": {
        "id": "I0H-8XLbNFI7"
      },
      "execution_count": null,
      "outputs": []
    },
    {
      "cell_type": "code",
      "source": [
        "# 대화형 지도 생성\n",
        "m = geemap.Map(center=[11.5, 105.5], zoom=8)\n",
        "\n",
        "# 지도에 레이어 추가\n",
        "m.addLayer(landsat_dry, vis_params_landsat, 'Landsat C2 - 건기 (2005-2006)')\n",
        "m.addLayer(landsat_wet, vis_params_landsat, 'Landsat C2 - 우기 (2006)')\n",
        "m.addLayer(seasonality, vis_params_jrc, 'JRC 물 계절성 v1.4 (Baseline)')\n",
        "\n",
        "# 레이어 컨트롤 추가\n",
        "m.addLayerControl()\n",
        "\n",
        "# 지도 표시\n",
        "m"
      ],
      "metadata": {
        "id": "eTURMax4NSXS"
      },
      "execution_count": null,
      "outputs": []
    },
    {
      "cell_type": "code",
      "source": [
        "# Phase 2: SAR 기반 홍수 면적 정령화(Sentinel-1)\n",
        "# 목표: 댐 영향 이후(2015-2024)의 기간 동안, 매년 우기의 최대 홍수 범람 면적을 객관적인 수치로 계산\n",
        "# step1: 매년 우기(8-9월)의 Sentinel-1 SAR 이미지를 모두 수집\n",
        "# step2: 여러 이미지 중 가장 어둡게 나타나는 픽셀 값을 선택하여 구름이나 노이즈 영향을 최소화하고, 물일 가능성 높은 지역 추출\n",
        "# step3: -16dB 임계값(Threshold) 기준, 물 지역 분류하고 해당 지역 총면적 계산\n",
        "# 결과: 연도별 홍수 면적 변화 데이터 생성, 그래프 시각화"
      ],
      "metadata": {
        "id": "0UaMZ3uLN5oM"
      },
      "execution_count": null,
      "outputs": []
    },
    {
      "cell_type": "code",
      "source": [
        "# 분석할 연도 범위 설정\n",
        "post_dam_start_year = 2015\n",
        "post_dam_end_year = 2024\n",
        "\n",
        "# 물을 탐지하기 위한 SAR 후방산란계수(backscatter) 임계값(dB)\n",
        "# 일반적으로 VV 편파에서 -16dB 이하면 물일 가능성이 높음\n",
        "water_threshold = -16"
      ],
      "metadata": {
        "id": "yWxHqd5LO35k"
      },
      "execution_count": null,
      "outputs": []
    },
    {
      "cell_type": "code",
      "source": [
        "import pandas as pd\n",
        "\n",
        "# 연도별 홍수 면적을 저장할 리스트\n",
        "flood_areas = []\n",
        "\n",
        "print(f\"연도별 홍수 면적 계산을 시작합니다... ({post_dam_start_year} - {post_dam_end_year})\")\n",
        "\n",
        "for year in range(post_dam_start_year, post_dam_end_year + 1):\n",
        "    # 해당 연도의 우기(8월 1일 ~ 9월 30일)로 기간 설정\n",
        "    start_date = f'{year}-08-01'\n",
        "    end_date = f'{year}-09-30'\n",
        "\n",
        "    # Sentinel-1 데이터 컬렉션 불러오기 및 필터링\n",
        "    s1_collection = ee.ImageCollection('COPERNICUS/S1_GRD') \\\n",
        "        .filterBounds(aoi) \\\n",
        "        .filterDate(start_date, end_date) \\\n",
        "        .filter(ee.Filter.listContains('transmitterReceiverPolarisation', 'VV')) \\\n",
        "        .filter(ee.Filter.eq('instrumentMode', 'IW')) \\\n",
        "        .select('VV')\n",
        "\n",
        "    # SAR 이미지의 노이즈(speckle)를 줄이기 위해 부드럽게 만드는 필터 적용\n",
        "    # `.min()`을 사용하여 여러 이미지 중 가장 어두운 픽셀(물일 가능성이 가장 높음)을 선택\n",
        "    s1_wet_season_min = s1_collection.min().clip(aoi)\n",
        "\n",
        "    # 임계값보다 낮은 픽셀을 물(1)로, 아닌 픽셀은 마스크(0) 처리하여 물 지도 생성\n",
        "    water_map = s1_wet_season_min.lt(water_threshold).selfMask()\n",
        "\n",
        "    # 물 픽셀의 면적 계산\n",
        "    # ee.Image.pixelArea()는 각 픽셀의 면적을 제곱미터 단위로 가진 이미지를 생성\n",
        "    # .reduceRegion을 사용하여 AOI 내의 모든 물 픽셀 면적을 합산\n",
        "    water_area = water_map.multiply(ee.Image.pixelArea()) \\\n",
        "        .reduceRegion(\n",
        "            reducer=ee.Reducer.sum(),\n",
        "            geometry=aoi,\n",
        "            scale=30, # 계산의 정밀도 설정\n",
        "            maxPixels=1e12 # 계산할 픽셀 수의 한도를 매우 크게 설정\n",
        "        )\n",
        "\n",
        "    # .getInfo()는 서버의 계산 결과를 클라이언트(Colab)로 가져오는 함수\n",
        "    water_area_km2 = ee.Number(water_area.get('VV')).divide(1e6).getInfo()\n",
        "\n",
        "    # 결과 저장\n",
        "    flood_areas.append({'year': year, 'area_km2': water_area_km2})\n",
        "    print(f\" - {year}년 최대 홍수 면적: {water_area_km2:,.2f} km²\")\n",
        "\n",
        "print(\"계산이 완료되었습니다.\")\n",
        "\n",
        "# 결과를 pandas DataFrame으로 변환\n",
        "df_flood = pd.DataFrame(flood_areas)"
      ],
      "metadata": {
        "id": "tywfpXd6PC0i"
      },
      "execution_count": null,
      "outputs": []
    },
    {
      "cell_type": "code",
      "source": [
        "# Phase 3: 원인 분석(강수량 데이터 통합)\n",
        "# 목표: 2단계에서 계산된 홍수 면적의 변화가 단순히 강수량 변화 때문인지, 아니면 다른 요인(댐)의 영향 있는지 분석\n",
        "# step1: 위성 기반 강수량 데이터 CHIRPS 이용, 매년 우기(8-9월) 총 강수량(mm) 계산\n",
        "# step2: 연도별 '홍수 면적' 데이터와 '총강수량' 데이터 합치기\n",
        "# step3: 두 변수를 하나의 그래프로 시각화하여 상관관계 파악\n",
        "# 결과: 홍수 면적 변화의 원인을 추론할 수 있는 설득력 있는 분석 자료 생성"
      ],
      "metadata": {
        "id": "g8jx7TjrO17u"
      },
      "execution_count": null,
      "outputs": []
    },
    {
      "cell_type": "code",
      "source": [
        "import matplotlib.pyplot as plt\n",
        "plt.style.use('seaborn-v0_8-whitegrid')\n",
        "fig, ax = plt.subplots(figsize=(12, 6))\n",
        "\n",
        "ax.plot(df_flood['year'], df_flood['area_km2'], marker='o', linestyle='-', color='royalblue')\n",
        "\n",
        "# 그래프 제목 및 축 레이블 설정\n",
        "ax.set_title('Mekong River Annual Max Flood Extent (Aug-Sep, Sentinel-1)', fontsize=16)\n",
        "ax.set_xlabel('Year', fontsize=12)\n",
        "ax.set_ylabel('Flood Area (km²)', fontsize=12)\n",
        "ax.tick_params(axis='x', rotation=45)\n",
        "ax.get_yaxis().set_major_formatter(plt.FuncFormatter(lambda x, p: format(int(x), ','))) # y축에 콤마 추가\n",
        "\n",
        "# 중국 주요 댐 완공 시점 표시 (참고용)\n",
        "ax.axvline(x=2009, color='red', linestyle='--', linewidth=1)\n",
        "ax.text(2009.1, df_flood['area_km2'].min(), 'Xiaowan Dam (2009)', rotation=90, color='red', verticalalignment='bottom')\n",
        "ax.axvline(x=2014, color='red', linestyle='--', linewidth=1)\n",
        "ax.text(2014.1, df_flood['area_km2'].min(), 'Nuozhadu Dam (2014)', rotation=90, color='red', verticalalignment='bottom')\n",
        "\n",
        "\n",
        "plt.tight_layout()\n",
        "plt.show()"
      ],
      "metadata": {
        "id": "6B_7auRENy0Z"
      },
      "execution_count": null,
      "outputs": []
    },
    {
      "cell_type": "code",
      "source": [
        "# Phase 4: 심층 사례 연구 및 시각화\n",
        "# 목표: 특정 연도(e.g., 2019년) 선정하여 홍수 발생 과정 상세히 분석, 시각 자료 생성\n",
        "# step1: 홍수 발생 전과 후 이미지 합성, 새롭게 침수된 지역을 붉은색으로 강조하는 False-color 지도 생성\n",
        "# 결과: 데이터 분석 결과 직관적 자료 생"
      ],
      "metadata": {
        "id": "wClXBuyBSe7k"
      },
      "execution_count": null,
      "outputs": []
    },
    {
      "cell_type": "code",
      "source": [
        "# 2019년(예시)의 홍수 지도를 생성\n",
        "year_to_show = 2019\n",
        "start_date = f'{year_to_show}-08-01'\n",
        "end_date = f'{year_to_show}-09-30'\n",
        "s1_collection = ee.ImageCollection('COPERNICUS/S1_GRD').filterBounds(aoi).filterDate(start_date, end_date).filter(ee.Filter.listContains('transmitterReceiverPolarisation', 'VV')).filter(ee.Filter.eq('instrumentMode', 'IW')).select('VV')\n",
        "s1_wet_season_min = s1_collection.min().clip(aoi)\n",
        "water_map_2019 = s1_wet_season_min.lt(water_threshold)\n",
        "\n",
        "# 1단계의 JRC 데이터 다시 불러오기\n",
        "jrc_data = ee.Image('JRC/GSW1_4/GlobalSurfaceWater').clip(aoi)\n",
        "jrc_seasonality = jrc_data.select('seasonality')\n",
        "jrc_permanent_water = jrc_seasonality.eq(1) # 값이 1인 픽셀만 선택 (영구 수역)\n",
        "\n",
        "# 지도 생성\n",
        "m2 = geemap.Map(center=[11.5, 105.5], zoom=8)\n",
        "\n",
        "# 지도에 레이어 추가\n",
        "# 1. JRC 기준선 (영구 수역)\n",
        "m2.addLayer(jrc_permanent_water.selfMask(), {'palette': 'darkblue'}, 'Baseline: Permanent Water (JRC)')\n",
        "# 2. 2019년 Sentinel-1 홍수 탐지 결과\n",
        "m2.addLayer(water_map_2019.selfMask(), {'palette': 'red'}, f'Sentinel-1 Flood Extent ({year_to_show})')\n",
        "m2.addLayerControl()\n",
        "m2"
      ],
      "metadata": {
        "id": "hT8s_d5DSMzw"
      },
      "execution_count": null,
      "outputs": []
    },
    {
      "cell_type": "code",
      "source": [
        "# 연도별 평균 강수량을 저장할 리스트\n",
        "precipitation_data = []\n",
        "\n",
        "# 분석할 연도 범위 (2단계와 동일)\n",
        "start_year = 2015\n",
        "end_year = 2024\n",
        "\n",
        "print(f\"연도별 평균 강수량 계산을 시작합니다... ({start_year} - {end_year})\")\n",
        "\n",
        "for year in range(start_year, end_year + 1):\n",
        "    # 해당 연도의 우기(8월 1일 ~ 9월 30일)로 기간 설정\n",
        "    start_date = f'{year}-08-01'\n",
        "    end_date = f'{year}-09-30'\n",
        "\n",
        "    # CHIRPS Daily 데이터셋 불러오기 및 필터링\n",
        "    chirps_collection = ee.ImageCollection('UCSB-CHG/CHIRPS/DAILY') \\\n",
        "        .filterBounds(aoi) \\\n",
        "        .filterDate(start_date, end_date)\n",
        "\n",
        "    # 해당 기간의 총강수량 계산 (.sum())\n",
        "    total_precipitation = chirps_collection.sum().clip(aoi)\n",
        "\n",
        "    # AOI 내의 평균 총강수량 계산\n",
        "    mean_precipitation = total_precipitation.reduceRegion(\n",
        "        reducer=ee.Reducer.mean(),\n",
        "        geometry=aoi,\n",
        "        scale=5000, # CHIRPS 데이터의 해상도에 맞춰 스케일 설정\n",
        "        maxPixels=1e12\n",
        "    )\n",
        "\n",
        "    # 서버에서 계산된 값을 가져옴\n",
        "    precipitation_mm = ee.Number(mean_precipitation.get('precipitation')).getInfo()\n",
        "\n",
        "    # 결과 저장\n",
        "    precipitation_data.append({'year': year, 'precipitation_mm': precipitation_mm})\n",
        "    print(f\" - {year}년 평균 총강수량: {precipitation_mm:,.2f} mm\")\n",
        "\n",
        "print(\"계산이 완료되었습니다.\")\n",
        "\n",
        "# 결과를 pandas DataFrame으로 변환\n",
        "df_precip = pd.DataFrame(precipitation_data)\n",
        "\n",
        "# 2단계에서 만든 df_flood 데이터프레임에 강수량 데이터를 합치기\n",
        "# 'year' 컬럼을 기준으로 두 데이터를 합칩니다.\n",
        "df_analysis = pd.merge(df_flood, df_precip, on='year')\n",
        "\n",
        "print(\"\\n[홍수 면적]과 [강수량] 데이터 통합 결과:\")\n",
        "print(df_analysis)"
      ],
      "metadata": {
        "id": "3P8w0ORTS6y7"
      },
      "execution_count": null,
      "outputs": []
    },
    {
      "cell_type": "code",
      "source": [
        "# Matplotlib 스타일 설정\n",
        "plt.style.use('seaborn-v0_8-whitegrid')\n",
        "fig, ax1 = plt.subplots(figsize=(14, 7))\n",
        "\n",
        "# 왼쪽 Y축: 홍수 면적(막대 그래프)\n",
        "color_bar = 'skyblue'\n",
        "ax1.set_xlabel('Year', fontsize=12)\n",
        "ax1.set_ylabel('Flood Area (km²)', color=color_bar, fontsize=12)\n",
        "ax1.bar(df_analysis['year'], df_analysis['area_km2'], color=color_bar, label='Flood Area (km²)')\n",
        "ax1.tick_params(axis='y', labelcolor=color_bar)\n",
        "ax1.get_yaxis().set_major_formatter(plt.FuncFormatter(lambda x, p: format(int(x), ',')))\n",
        "\n",
        "\n",
        "# 오른쪽 Y축: 강수량(선 그래프)\n",
        "ax2 = ax1.twinx()  # ax1과 x축을 공유하는 두 번째 y축 생성\n",
        "color_line = 'royalblue'\n",
        "ax2.set_ylabel('Total Precipitation (mm)', color=color_line, fontsize=12)\n",
        "ax2.plot(df_analysis['year'], df_analysis['precipitation_mm'], color=color_line, marker='o', linestyle='-', label='Precipitation (mm)')\n",
        "ax2.tick_params(axis='y', labelcolor=color_line)\n",
        "\n",
        "# 그래프 제목 및 레이아웃 설정\n",
        "plt.title('Mekong Flood Area vs. Precipitation (2015-2024)', fontsize=18, pad=20)\n",
        "ax1.set_xticks(df_analysis['year']) # x축 눈금을 연도별로 표시\n",
        "ax1.tick_params(axis='x', rotation=45)\n",
        "fig.tight_layout() # 그래프 요소들이 겹치지 않게 조정\n",
        "\n",
        "# 범례 추가\n",
        "lines, labels = ax1.get_legend_handles_labels()\n",
        "lines2, labels2 = ax2.get_legend_handles_labels()\n",
        "ax2.legend(lines + lines2, labels + labels2, loc='upper left')\n",
        "\n",
        "plt.show()"
      ],
      "metadata": {
        "id": "ZKPfs6RUTVag"
      },
      "execution_count": null,
      "outputs": []
    },
    {
      "cell_type": "code",
      "source": [
        "# 심층 분석할 연도 설정 (3단계 그래프를 보고 가장 의심스러운 해로 변경 가능)\n",
        "case_study_year = 2019\n",
        "\n",
        "# Sentinel-1 SAR 영상 시각화를 위한 파라미터 (dB 단위)\n",
        "s1_vis_params = {\n",
        "    'bands': ['VV'],\n",
        "    'min': -25, # 물은 매우 어둡게 (-25)\n",
        "    'max': -5   # 육지는 상대적으로 밝게 (-5)\n",
        "}"
      ],
      "metadata": {
        "id": "YUa0W_CRTe0D"
      },
      "execution_count": null,
      "outputs": []
    },
    {
      "cell_type": "code",
      "source": [
        "# GIF를 만들 기간 설정 (홍수가 시작되고 절정에 이르는 시기)\n",
        "start_date_gif = f'{case_study_year}-07-01'\n",
        "end_date_gif = f'{case_study_year}-10-31'\n",
        "\n",
        "# Sentinel-1 데이터 필터링\n",
        "s1_collection_gif = ee.ImageCollection('COPERNICUS/S1_GRD') \\\n",
        "    .filterBounds(aoi) \\\n",
        "    .filterDate(start_date_gif, end_date_gif) \\\n",
        "    .filter(ee.Filter.listContains('transmitterReceiverPolarisation', 'VV')) \\\n",
        "    .filter(ee.Filter.eq('instrumentMode', 'IW')) \\\n",
        "    .select('VV') \\\n",
        "    .sort('system:time_start') # 시간 순으로 정렬\n",
        "\n",
        "print(f\"{case_study_year}년 우기 타임랩스 GIF 생성을 시작합니다. (시간이 다소 소요될 수 있습니다)\")\n",
        "\n",
        "# GIF 파일 이름 설정\n",
        "gif_output_path = f'mekong_flood_{case_study_year}.gif'\n",
        "\n",
        "# geemap을 사용하여 타임랩스 GIF 생성\n",
        "geemap.download_ee_video(\n",
        "    s1_collection_gif,\n",
        "    video_args={\n",
        "        'dimensions': 720, # GIF의 크기 (픽셀)\n",
        "        'region': aoi,\n",
        "        'framesPerSecond': 5, # 초당 프레임 수\n",
        "        'bands': ['VV'],\n",
        "        'min': -25,\n",
        "        'max': -5\n",
        "    },\n",
        "    out_gif=gif_output_path\n",
        ")\n",
        "\n",
        "print(f\"GIF 파일이 성공적으로 '{gif_output_path}' 이름으로 저장되었습니다.\")\n",
        "print(\"Colab의 왼쪽 파일 탐색기에서 새로고침하여 다운로드할 수 있습니다.\")"
      ],
      "metadata": {
        "id": "zGFunUnJTj6u"
      },
      "execution_count": null,
      "outputs": []
    },
    {
      "cell_type": "code",
      "source": [
        "# 비교할 기간 설정\n",
        "# 'Before': 홍수가 본격화되기 전\n",
        "before_start = f'{case_study_year}-06-01'\n",
        "before_end = f'{case_study_year}-06-30'\n",
        "\n",
        "# 'After' (During): 홍수가 절정에 달했을 때\n",
        "after_start = f'{case_study_year}-08-15'\n",
        "after_end = f'{case_study_year}-09-15'\n",
        "\n",
        "# 각 기간의 S1 이미지 생성 (노이즈 감소를 위해 .median() 사용)\n",
        "s1_before = ee.ImageCollection('COPERNICUS/S1_GRD').filterBounds(aoi).filterDate(before_start, before_end).select('VV').median().clip(aoi)\n",
        "s1_after = ee.ImageCollection('COPERNICUS/S1_GRD').filterBounds(aoi).filterDate(after_start, after_end).select('VV').median().clip(aoi)\n",
        "\n",
        "# RGB False-color Composite 생성 (R: 홍수 중, G: 홍수 전, B: 홍수 전)\n",
        "# 새롭게 침수된 지역이 붉은색으로 강조됨\n",
        "change_map = ee.Image.cat([s1_after, s1_before, s1_before])\n",
        "\n",
        "# 지도 생성\n",
        "m3 = geemap.Map(center=[11.5, 105.5], zoom=8)\n",
        "m3.addLayer(change_map, {'min': -25, 'max': -5}, f'Flood Change Map ({case_study_year})')\n",
        "\n",
        "# 범례 추가\n",
        "legend_dict = {\n",
        "    'Newly Flooded Areas': 'FF0000', # 빨간색\n",
        "    'Permanent Water': '000000',     # 검은색\n",
        "    'Land (No Change)': 'FFFFFF'     # 흰색/회색\n",
        "}\n",
        "m3.add_legend(title='Legend', legend_dict=legend_dict)\n",
        "m3.addLayerControl()\n",
        "m3"
      ],
      "metadata": {
        "id": "olchPriETtA9"
      },
      "execution_count": null,
      "outputs": []
    }
  ]
}