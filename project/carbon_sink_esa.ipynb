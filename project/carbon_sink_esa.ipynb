{
  "nbformat": 4,
  "nbformat_minor": 0,
  "metadata": {
    "colab": {
      "provenance": [],
      "authorship_tag": "ABX9TyPtKsYl8sIcY1pzOtE6KPB/",
      "include_colab_link": true
    },
    "kernelspec": {
      "name": "python3",
      "display_name": "Python 3"
    },
    "language_info": {
      "name": "python"
    }
  },
  "cells": [
    {
      "cell_type": "markdown",
      "metadata": {
        "id": "view-in-github",
        "colab_type": "text"
      },
      "source": [
        "<a href=\"https://colab.research.google.com/github/jjangmo91/ParkLab/blob/main/project/carbon_sink.ipynb\" target=\"_parent\"><img src=\"https://colab.research.google.com/assets/colab-badge.svg\" alt=\"Open In Colab\"/></a>"
      ]
    },
    {
      "cell_type": "markdown",
      "source": [
        "#0. 기본 설정 (Setup)"
      ],
      "metadata": {
        "id": "8MmEzSXNDtlV"
      }
    },
    {
      "cell_type": "code",
      "source": [
        "import ee\n",
        "import geemap\n",
        "\n",
        "# Earth Engine 인증\n",
        "ee.Authenticate()\n",
        "\n",
        "# Earth Engine 초기화\n",
        "ee.Initialize(project='ee-jjangmo91')\n",
        "\n",
        "# 분석 지역 정의 (속리산 국립공원, WDPA ID: 773)\n",
        "wdpa = ee.FeatureCollection(\"WCMC/WDPA/current/polygons\")\n",
        "roi = wdpa.filter(ee.Filter.eq('WDPAID', 773)).geometry()\n",
        "\n",
        "# 데이터 로드\n",
        "dem = ee.Image(\"NASA/NASADEM_HGT/001\").select('elevation').clip(roi)\n",
        "slope = ee.Terrain.slope(dem)\n",
        "lulc = ee.ImageCollection(\"ESA/WorldCover/v200\").first().clip(roi)\n",
        "boundary = ee.Image().paint(roi, 0, 1)\n",
        "boundary_vis = {'palette': ['#000000']} # 검은색"
      ],
      "metadata": {
        "id": "YE3eNjFLDwW-"
      },
      "execution_count": null,
      "outputs": []
    },
    {
      "cell_type": "markdown",
      "source": [
        "# 1단계: 현재 토지 피복 상태 확인 (문제 원인 파악용)"
      ],
      "metadata": {
        "id": "U7MsIYFDXi3x"
      }
    },
    {
      "cell_type": "code",
      "source": [
        "map0 = geemap.Map()\n",
        "map0.centerObject(roi, 11)\n",
        "map0.add_basemap('HYBRID')\n",
        "\n",
        "def create_sld_style(class_values, palette, labels):\n",
        "    sld = '<RasterSymbolizer><ColorMap type=\"values\" extended=\"false\">'\n",
        "    for value, color, label in zip(class_values, palette, labels):\n",
        "        sld += f'<ColorMapEntry color=\"{color}\" quantity=\"{value}\" label=\"{label}\" />'\n",
        "    sld += '</ColorMap></RasterSymbolizer>'\n",
        "    return sld\n",
        "\n",
        "class_values = [10, 20, 30, 40, 50, 60, 80, 90]\n",
        "class_palette = [\"#006400\", \"#ffbb22\", \"#ffff4c\", \"#f096ff\", \"#fa0000\", \"#b4b4b4\", \"#0064c8\", \"#0096a0\"]\n",
        "class_labels = [\"산림\", \"관목지\", \"초지\", \"농경지\", \"시가화\", \"나지\", \"수역\", \"습지\"]\n",
        "\n",
        "sld_style = create_sld_style(class_values, class_palette, class_labels)\n",
        "map0.addLayer(lulc.sldStyle(sld_style), {}, '현재 토지 피복 (ESA WorldCover)')\n",
        "map0.addLayer(boundary, boundary_vis, '국립공원 경계')\n",
        "\n",
        "legend_dict_lulc = {label: color for label, color in zip(class_labels, class_palette)}\n",
        "map0.add_legend(title=\"현재 토지 피복\", legend_dict=legend_dict_lulc)\n",
        "print(\"지도 0: 속리산의 전체 토지 피복 유형과 범례가 정확히 일치하는 지도입니다.\")\n",
        "display(map0)"
      ],
      "metadata": {
        "id": "A6rrmPo9T19f"
      },
      "execution_count": null,
      "outputs": []
    },
    {
      "cell_type": "markdown",
      "source": [
        "# 2. 제외 지역 분석 (Exclusion Analysis)"
      ],
      "metadata": {
        "id": "wdW6LKfnD_fv"
      }
    },
    {
      "cell_type": "code",
      "source": [
        "existing_forest = lulc.eq(10)\n",
        "water_bodies = lulc.eq(80)\n",
        "alpine_zone = dem.gte(950)\n",
        "bare_land = lulc.eq(60)\n",
        "steep_slopes_on_bare = bare_land.And(slope.gte(35))\n",
        "exclusion_mask = existing_forest.Or(water_bodies).Or(alpine_zone).Or(steep_slopes_on_bare)\n",
        "potential_candidate_area = exclusion_mask.Not()\n",
        "\n",
        "map1 = geemap.Map()\n",
        "map1.centerObject(roi, 12)\n",
        "map1.add_basemap('HYBRID')\n",
        "map1.addLayer(exclusion_mask.selfMask(), {'palette': ['#696969']}, '제외 지역 (조림 불가)')\n",
        "map1.addLayer(potential_candidate_area.selfMask(), {'palette': ['#ffffbf']}, '1차 후보지 (분석 대상)')\n",
        "map1.addLayer(boundary, boundary_vis, '국립공원 경계')\n",
        "map1.add_legend(title=\"1단계: 제외 분석 결과\", legend_dict={ \"제외 지역\": \"#696969\", \"1차 후보지\": \"#ffffbf\" })\n",
        "display(map1)"
      ],
      "metadata": {
        "id": "Sepgz8EAD-wt"
      },
      "execution_count": null,
      "outputs": []
    },
    {
      "cell_type": "markdown",
      "source": [
        "# 3. 적합성 평가 (Suitability Assessment)"
      ],
      "metadata": {
        "id": "SW0zva-lEHJz"
      }
    },
    {
      "cell_type": "code",
      "source": [
        "# 적합성 평가에 필요한 모든 변수 계산\n",
        "\n",
        "# 개별 점수 계산\n",
        "slope_score = slope.unitScale(0, 35).subtract(1).multiply(-1)\n",
        "soc_dataset = ee.Image(\"OpenLandMap/SOL/SOL_ORGANIC-CARBON_USDA-6A1C_M/v02\").select('b0').clip(roi)\n",
        "soil_score = soc_dataset.unitScale(0, 100)\n",
        "npp_dataset = ee.ImageCollection('MODIS/061/MOD17A3HGF').filterDate('2015-01-01', '2022-12-31').select('Npp').mean().clip(roi)\n",
        "productivity_score = npp_dataset.unitScale(0, 15000)\n",
        "\n",
        "# 종합 점수 계산(검증용 & 최종 분석용)\n",
        "suitability_score_full_area = (slope_score.add(soil_score).add(productivity_score)).divide(3)\n",
        "suitability_score_masked = suitability_score_full_area.updateMask(potential_candidate_area)\n",
        "\n",
        "# 시각화에 사용할 파라미터 정의\n",
        "suitability_palette = ['#d7191c', '#fdae61', '#ffffbf', '#abdda4', '#2b83ba']\n",
        "suitability_vis_params = {'min': 0, 'max': 1, 'palette': suitability_palette}"
      ],
      "metadata": {
        "id": "n8Jd1xHrKRNL"
      },
      "execution_count": null,
      "outputs": []
    },
    {
      "cell_type": "code",
      "source": [
        "# 지도 2-A: 검증용 지도 (국립공원 전체)\n",
        "map2_verification = geemap.Map()\n",
        "map2_verification.centerObject(roi, 12)\n",
        "map2_verification.add_basemap('HYBRID')\n",
        "\n",
        "# 종합 적합성(전체 지역) 레이어 추가\n",
        "map2_verification.addLayer(\n",
        "    suitability_score_full_area,\n",
        "    suitability_vis_params,\n",
        "    'Suitability Score (Full Area)'\n",
        ")\n",
        "# 국립공원 경계선 추가\n",
        "map2_verification.addLayer(boundary, boundary_vis, 'National Park Boundary')\n",
        "map2_verification.add_colorbar(\n",
        "    suitability_vis_params,\n",
        "    label=\"Suitability Score (Low -> High)\",\n",
        "    orientation=\"vertical\",\n",
        "    max_width=\"100px\"\n",
        ")\n",
        "\n",
        "print(\"Map 2-A (Verification): Suitability score for the entire national park.\")\n",
        "display(map2_verification)\n"
      ],
      "metadata": {
        "id": "Zji6Cjq3ZUii"
      },
      "execution_count": null,
      "outputs": []
    },
    {
      "cell_type": "code",
      "source": [
        "# 실제 분석 결과 지도\n",
        "map2_final = geemap.Map()\n",
        "map2_final.centerObject(roi, 12)\n",
        "map2_final.add_basemap('HYBRID')\n",
        "\n",
        "# 종합 적합성(1차 후보지) 레이어 추가\n",
        "map2_final.addLayer(\n",
        "    suitability_score_masked,\n",
        "    suitability_vis_params,\n",
        "    'Suitability Score (Candidate Area)'\n",
        ")\n",
        "# 국립공원 경계선 추가\n",
        "map2_final.addLayer(boundary, boundary_vis, 'National Park Boundary')\n",
        "map2_final.add_colorbar(\n",
        "    suitability_vis_params,\n",
        "    label=\"Suitability Score (Low -> High)\",\n",
        "    orientation=\"vertical\",\n",
        "    max_width=\"100px\"\n",
        ")\n",
        "\n",
        "print(\"Map 2-B (Final Analysis): Suitability score for the candidate areas only.\")\n",
        "display(map2_final)"
      ],
      "metadata": {
        "id": "rHiyqSQ_aHkO"
      },
      "execution_count": null,
      "outputs": []
    },
    {
      "cell_type": "markdown",
      "source": [
        "# 4. 우선순위 부여 (Prioritization)"
      ],
      "metadata": {
        "id": "xC22nDDsER2p"
      }
    },
    {
      "cell_type": "code",
      "source": [
        "# 우선순위 평가에 필요한 모든 변수 계산\n",
        "\n",
        "# 생태계 연결성 점수 계산\n",
        "distance_to_forest = existing_forest.distance(ee.Kernel.euclidean(1000, 'meters'))\n",
        "connectivity_score = distance_to_forest.unitScale(0, 1000).subtract(1).multiply(-1)\n",
        "\n",
        "# 복원 시급성 점수 계산\n",
        "def get_annual_ndvi(year):\n",
        "    def harmonize_bands(image):\n",
        "        optical_bands = image.select('SR_B.').multiply(0.0000275).add(-0.2)\n",
        "        landsat_8_9_list = ee.List(['LANDSAT_8', 'LANDSAT_9'])\n",
        "        is_landsat_8_9 = landsat_8_9_list.contains(image.get('SPACECRAFT_ID'))\n",
        "        common_bands = ee.Image(ee.Algorithms.If(\n",
        "            is_landsat_8_9,\n",
        "            optical_bands.select(['SR_B4', 'SR_B5'], ['Red', 'NIR']),\n",
        "            optical_bands.select(['SR_B3', 'SR_B4'], ['Red', 'NIR'])\n",
        "        ))\n",
        "        return image.addBands(common_bands, overwrite=True)\n",
        "\n",
        "    collection = ee.ImageCollection('LANDSAT/LC09/C02/T1_L2').merge(ee.ImageCollection('LANDSAT/LC08/C02/T1_L2')) \\\n",
        "                   .merge(ee.ImageCollection('LANDSAT/LE07/C02/T1_L2')).merge(ee.ImageCollection('LANDSAT/LT05/C02/T1_L2'))\n",
        "\n",
        "    filtered = collection.filterDate(ee.Date.fromYMD(year, 6, 1), ee.Date.fromYMD(year, 8, 31)).filterBounds(roi).map(harmonize_bands)\n",
        "\n",
        "    return ee.Image(ee.Algorithms.If(\n",
        "        filtered.size().gt(0),\n",
        "        filtered.median().normalizedDifference(['NIR', 'Red']).rename('NDVI').set('year', year),\n",
        "        None\n",
        "    ))\n",
        "\n",
        "years = ee.List.sequence(2020, 2024)\n",
        "ndvi_collection = ee.ImageCollection.fromImages(years.map(lambda y: get_annual_ndvi(ee.Number(y))).removeAll([None]))\n",
        "def add_time_band(image):\n",
        "    return image.addBands(ee.Image.constant(image.get('year')).toFloat().rename('time'))\n",
        "trend = ndvi_collection.map(add_time_band).select(['time', 'NDVI']).reduce(ee.Reducer.linearFit())\n",
        "ndvi_slope = trend.select('scale')\n",
        "restoration_urgency_score = ndvi_slope.unitScale(-0.01, 0.005).subtract(1).multiply(-1)\n",
        "\n",
        "# 시각화에 사용할 파라미터 정의\n",
        "priority_palette = ['#ffffcc', '#a1dab4', '#41b6c4'] # 낮음(노랑) -> 높음(청록)\n",
        "priority_vis_params = {'min': 0, 'max': 1, 'palette': priority_palette}\n",
        "\n",
        "print(\"-> 모든 우선순위 점수 계산 완료. 아래 셀에서 지도를 확인하세요.\")"
      ],
      "metadata": {
        "id": "iQ4Od4w_EUGp"
      },
      "execution_count": null,
      "outputs": []
    },
    {
      "cell_type": "code",
      "source": [
        "# 우선순위 요소 시각화\n",
        "map3 = geemap.Map()\n",
        "map3.centerObject(roi, 12)\n",
        "map3.add_basemap('HYBRID')\n",
        "\n",
        "# '생태계 연결성' 레이어 추가\n",
        "map3.addLayer(\n",
        "    connectivity_score.updateMask(potential_candidate_area),\n",
        "    priority_vis_params,\n",
        "    'Ecological Connectivity Score'\n",
        ")\n",
        "# '복원 시급성' 레이어 추가\n",
        "map3.addLayer(\n",
        "    restoration_urgency_score.updateMask(potential_candidate_area),\n",
        "    priority_vis_params,\n",
        "    'Restoration Urgency Score',\n",
        "    False # 레이어를 처음에는 끈 상태로 추가\n",
        ")\n",
        "# 국립공원 경계선 추가\n",
        "map3.addLayer(boundary, boundary_vis, 'National Park Boundary')\n",
        "\n",
        "# 범례\n",
        "map3.add_colorbar(\n",
        "    priority_vis_params,\n",
        "    label=\"Priority Score (Low -> High)\",\n",
        "    orientation=\"vertical\",\n",
        "    max_width=\"100px\"\n",
        ")\n",
        "\n",
        "print(\"Map 3: Displays priority scores. You can toggle layers in the layer manager.\")\n",
        "display(map3)\n"
      ],
      "metadata": {
        "id": "fs2yeI1NanOY"
      },
      "execution_count": null,
      "outputs": []
    },
    {
      "cell_type": "markdown",
      "source": [
        "# 5. 최종 종합 및 시각화"
      ],
      "metadata": {
        "id": "uCKCMvdIKcoP"
      }
    },
    {
      "cell_type": "code",
      "source": [
        "# 최종 결과 종합\n",
        "\n",
        "# 최종 점수 계산 (가중 중첩)\n",
        "# suitability_score_masked는 2단계에서 계산된 변수를 그대로 사용\n",
        "final_score = (\n",
        "    suitability_score_masked.multiply(0.5)\n",
        "    .add(connectivity_score.multiply(0.3))\n",
        "    .add(restoration_urgency_score.multiply(0.2))\n",
        ")\n",
        "\n",
        "# 최종 후보지 등급 분류 (1, 2, 3 등급)\n",
        "priority_zones = (\n",
        "    ee.Image(0)\n",
        "    .where(final_score.gte(0.7), 1)  # 1순위 (최우선)\n",
        "    .where(final_score.gte(0.5).And(final_score.lt(0.7)), 2) # 2순위 (차순위)\n",
        "    .where(final_score.gt(0).And(final_score.lt(0.5)), 3) # 3순위 (후순위)\n",
        "    .updateMask(potential_candidate_area)\n",
        ")\n",
        "print(\"-> 최종 점수 및 등급 계산 완료. 아래 셀에서 지도를 확인하세요.\")\n",
        "\n",
        "#최종 후보지 시각화\n",
        "map4 = geemap.Map()\n",
        "map4.centerObject(roi, 12)\n",
        "map4.add_basemap('HYBRID')\n",
        "\n",
        "# 최종 우선순위 등급 지도 시각화\n",
        "final_palette = ['#d73027', '#fc8d59', '#fee090'] # 1순위(진홍), 2순위(주황), 3순위(노랑)\n",
        "map4.addLayer(\n",
        "    priority_zones,\n",
        "    {'min': 1, 'max': 3, 'palette': final_palette},\n",
        "    'Final Priority Zones'\n",
        ")\n",
        "\n",
        "# 제외 지역 및 국립공원 경계선 추가\n",
        "map4.addLayer(exclusion_mask.selfMask(), {'palette': ['#696969']}, 'Excluded Areas', False)\n",
        "map4.addLayer(boundary, boundary_vis, 'National Park Boundary')\n",
        "\n",
        "# 범례\n",
        "map4.add_legend(title=\"Final Priority Zones\", legend_dict={\n",
        "    \"Priority 1 (Highest)\": \"#d73027\",\n",
        "    \"Priority 2 (Medium)\": \"#fc8d59\",\n",
        "    \"Priority 3 (Lowest)\": \"#fee090\",\n",
        "    \"Excluded Areas\": \"#696969\"\n",
        "})\n",
        "\n",
        "display(map4)"
      ],
      "metadata": {
        "id": "SpXuXuwLKejV"
      },
      "execution_count": null,
      "outputs": []
    }
  ]
}
